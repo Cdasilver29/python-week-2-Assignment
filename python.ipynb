{
 "cells": [
  {
   "cell_type": "markdown",
   "id": "f13dec3a",
   "metadata": {},
   "source": [
    "#### 1.Create an empty list called my_list."
   ]
  },
  {
   "cell_type": "code",
   "execution_count": null,
   "id": "02e82d54",
   "metadata": {},
   "outputs": [
    {
     "name": "stdout",
     "output_type": "stream",
     "text": [
      "Empty list []\n"
     ]
    }
   ],
   "source": [
    "# creating an empty list called my_list\n",
    "\n",
    "my_list = []\n",
    "\n",
    "print(\"Empty list\", my_list)"
   ]
  },
  {
   "cell_type": "markdown",
   "id": "4046ce7a",
   "metadata": {},
   "source": [
    "#### 2.Append the following elements to my_list: 10, 20, 30, 40."
   ]
  },
  {
   "cell_type": "code",
   "execution_count": 3,
   "id": "b11efedf",
   "metadata": {},
   "outputs": [
    {
     "name": "stdout",
     "output_type": "stream",
     "text": [
      "List with 4 elements:, [10, 20, 30, 40]\n"
     ]
    }
   ],
   "source": [
    "# Append elements to the list\n",
    "my_list = []\n",
    "\n",
    "my_list.append(10)\n",
    "my_list.append(20)\n",
    "my_list.append(30)\n",
    "my_list.append(40)\n",
    "print(f'List with 4 elements:, {my_list}')"
   ]
  },
  {
   "cell_type": "markdown",
   "id": "5b9b79fa",
   "metadata": {},
   "source": [
    "#### 3.Insert the value 15 at the second position in the list."
   ]
  },
  {
   "cell_type": "code",
   "execution_count": 7,
   "id": "b3816fd0",
   "metadata": {},
   "outputs": [
    {
     "name": "stdout",
     "output_type": "stream",
     "text": [
      "[10, 15, 20, 30, 40]\n"
     ]
    }
   ],
   "source": [
    "# Insert elements to the list at a specific index\n",
    "my_list = [10, 20, 30, 40]\n",
    "\n",
    "my_list.insert(1, 15)\n",
    "\n",
    "print(my_list)"
   ]
  },
  {
   "cell_type": "markdown",
   "id": "a9f3cc6c",
   "metadata": {},
   "source": [
    "#### 4.Extend my_list with another list: [50, 60, 70]."
   ]
  },
  {
   "cell_type": "code",
   "execution_count": 8,
   "id": "a2df1fde",
   "metadata": {},
   "outputs": [
    {
     "name": "stdout",
     "output_type": "stream",
     "text": [
      "New list: [10, 15, 20, 30, 40, 50, 60, 70]\n"
     ]
    }
   ],
   "source": [
    "# extend the list\n",
    "my_list = [10, 15, 20, 30, 40]\n",
    "\n",
    "my_list.extend([50, 60, 70])\n",
    "\n",
    "print(f'New list: {my_list}') "
   ]
  },
  {
   "cell_type": "markdown",
   "id": "a35037ab",
   "metadata": {},
   "source": [
    "#### 5.Remove the last element from my_list."
   ]
  },
  {
   "cell_type": "code",
   "execution_count": 9,
   "id": "95d2971d",
   "metadata": {},
   "outputs": [
    {
     "name": "stdout",
     "output_type": "stream",
     "text": [
      "New list: [10, 15, 20, 30, 40, 50, 60]\n"
     ]
    }
   ],
   "source": [
    "# remove the last element from the list\n",
    "my_list = [10, 15, 20, 30, 40, 50, 60, 70]\n",
    "\n",
    "del(my_list[-1]) \n",
    "\n",
    "print(f'New list: {my_list}')"
   ]
  },
  {
   "cell_type": "markdown",
   "id": "9f9350e1",
   "metadata": {},
   "source": [
    "#### 6.Sort my_list in ascending order."
   ]
  },
  {
   "cell_type": "code",
   "execution_count": 11,
   "id": "1afb84c8",
   "metadata": {},
   "outputs": [
    {
     "name": "stdout",
     "output_type": "stream",
     "text": [
      "Ascending list: [10, 15, 20, 30, 40, 50, 60]\n"
     ]
    }
   ],
   "source": [
    "# sort the list in ascending order\n",
    "my_list = [10, 15, 20, 30, 40, 50, 60]\n",
    "\n",
    "my_list.sort()\n",
    "\n",
    "print(f'Ascending list: {my_list}')"
   ]
  },
  {
   "cell_type": "markdown",
   "id": "a142b08a",
   "metadata": {},
   "source": [
    "#### 7.Find and print the index of the value 30 in my_list."
   ]
  },
  {
   "cell_type": "code",
   "execution_count": 12,
   "id": "e5b6c38d",
   "metadata": {},
   "outputs": [
    {
     "name": "stdout",
     "output_type": "stream",
     "text": [
      "3\n"
     ]
    }
   ],
   "source": [
    "# Find and print the index of 30 in the list\n",
    "my_list = [10, 15, 20, 30, 40, 50, 60]\n",
    "\n",
    "print(my_list.index(30))"
   ]
  }
 ],
 "metadata": {
  "kernelspec": {
   "display_name": "base",
   "language": "python",
   "name": "python3"
  },
  "language_info": {
   "codemirror_mode": {
    "name": "ipython",
    "version": 3
   },
   "file_extension": ".py",
   "mimetype": "text/x-python",
   "name": "python",
   "nbconvert_exporter": "python",
   "pygments_lexer": "ipython3",
   "version": "3.12.3"
  }
 },
 "nbformat": 4,
 "nbformat_minor": 5
}
